{
 "cells": [
  {
   "cell_type": "code",
   "execution_count": 22,
   "metadata": {
    "collapsed": true
   },
   "outputs": [],
   "source": [
    "import numpy as np\n",
    "import pandas as pd\n",
    "from sklearn import metrics\n",
    "import collections"
   ]
  },
  {
   "cell_type": "code",
   "execution_count": 123,
   "metadata": {
    "collapsed": true
   },
   "outputs": [],
   "source": [
    "def report(label, prediction_prob):\n",
    "    prediction_argmax = np.argmax(prediction_prob, 1)\n",
    "    print metrics.classification_report(label, prediction_argmax)\n",
    "    print \"Log Loss:\", metrics.log_loss(label, prediction_prob, eps=1e-15)\n",
    "    print"
   ]
  },
  {
   "cell_type": "code",
   "execution_count": 3,
   "metadata": {
    "collapsed": false
   },
   "outputs": [],
   "source": [
    "def convert_to_matrix(df, label_idx, prob_idx_start, prob_idx_end):\n",
    "    if label_idx != None:\n",
    "        labels = df.ix[:,label_idx].as_matrix()\n",
    "    else:\n",
    "        labels = None\n",
    "    prediction_prob = df.ix[:,prob_idx_start:prob_idx_end].as_matrix()\n",
    "    return labels, prediction_prob"
   ]
  },
  {
   "cell_type": "code",
   "execution_count": 101,
   "metadata": {
    "collapsed": false
   },
   "outputs": [],
   "source": [
    "def make_submission_df(names, probabilities):\n",
    "    df = pd.DataFrame(data=probabilities,\n",
    "                      index=names,\n",
    "                      columns=['Type_1', 'Type_2', 'Type_3'])\n",
    "    df.index.name = 'image_name'\n",
    "    \n",
    "    df['indexNumber'] = [int(i.split('.')[0]) for i in df.index]\n",
    "    df.sort_values(['indexNumber'], ascending = [True], inplace = True)\n",
    "    df.drop('indexNumber', 1, inplace = True)\n",
    "    \n",
    "    df.drop_duplicates(inplace = True)\n",
    "    \n",
    "    return df"
   ]
  },
  {
   "cell_type": "code",
   "execution_count": 133,
   "metadata": {
    "collapsed": false
   },
   "outputs": [],
   "source": [
    "def make_submission(csv_loc, submission_output_loc = None): \n",
    "    test_df = pd.read_csv(test_csv)\n",
    "    name_idx = 1; prob_idx_start = 5; prob_idx_end = 8\n",
    "    nm, pp_t = convert_to_matrix(test_df, name_idx, prob_idx_start, prob_idx_end)\n",
    "    sub = make_submission_df(nm, pp_t)\n",
    "    if submission_output_loc != None:\n",
    "        sub.to_csv(submission_output_loc)\n",
    "    return sub"
   ]
  },
  {
   "cell_type": "code",
   "execution_count": 124,
   "metadata": {
    "collapsed": false
   },
   "outputs": [],
   "source": [
    "def make_report(csv_loc):\n",
    "    print \"Classification Report:\", csv_loc\n",
    "    label_idx = 3; prob_idx_start = 5; prob_idx_end = 8\n",
    "    train_df = pd.read_csv(csv_loc)\n",
    "    lbl, pp = convert_to_matrix(train_df, label_idx, prob_idx_start, prob_idx_end)\n",
    "    report(lbl, pp)"
   ]
  },
  {
   "cell_type": "code",
   "execution_count": 115,
   "metadata": {
    "collapsed": false
   },
   "outputs": [],
   "source": [
    "csv_dir = 'predictions/inception_v3_2_all/'\n",
    "test_csv = csv_dir + 'test.csv'\n",
    "output = csv_dir + 'submission_inception_v3_2.csv'\n",
    "make_submission(test_csv, output)"
   ]
  },
  {
   "cell_type": "code",
   "execution_count": 125,
   "metadata": {
    "collapsed": false
   },
   "outputs": [
    {
     "name": "stdout",
     "output_type": "stream",
     "text": [
      "Classification Report: predictions/inception_v3_2_all/train.csv\n",
      "             precision    recall  f1-score   support\n",
      "\n",
      "          0       0.68      0.21      0.32       250\n",
      "          1       0.68      0.81      0.74       793\n",
      "          2       0.68      0.69      0.68       457\n",
      "\n",
      "avg / total       0.68      0.68      0.65      1500\n",
      "\n",
      "Log Loss: 0.762723509778\n",
      "\n",
      "Classification Report: predictions/inception_v3_2/train.csv\n",
      "             precision    recall  f1-score   support\n",
      "\n",
      "          0       0.44      0.08      0.13       250\n",
      "          1       0.55      0.92      0.69       793\n",
      "          2       0.61      0.16      0.25       457\n",
      "\n",
      "avg / total       0.55      0.55      0.46      1500\n",
      "\n",
      "Log Loss: 1.11147171792\n",
      "\n"
     ]
    }
   ],
   "source": [
    "train_all_csv = csv_dir + 'train.csv'\n",
    "train_csv = 'predictions/inception_v3_2/train.csv'\n",
    "make_report(train_all_csv)\n",
    "make_report(train_csv)"
   ]
  },
  {
   "cell_type": "code",
   "execution_count": 130,
   "metadata": {
    "collapsed": false
   },
   "outputs": [],
   "source": [
    "leak_name = ['378.jpg', '230.jpg', '61.jpg', '258.jpg', '500.jpg', '385.jpg', '322.jpg',\n",
    "             '141.jpg', '149.jpg', '422.jpg', '380.jpg', '120.jpg', '14.jpg', '2.jpg', \n",
    "             '369.jpg', '308.jpg', '186.jpg', '434.jpg', '234.jpg', '289.jpg', '178.jpg',\n",
    "             '432.jpg']\n",
    "leak_label = [2, 1, 2, 3, 2, 2, 3, 2, 2, 3, 2, 3, 3, 2, 2, 2, 2, 1, 2, 2, 1, 3]"
   ]
  },
  {
   "cell_type": "code",
   "execution_count": 134,
   "metadata": {
    "collapsed": false
   },
   "outputs": [],
   "source": [
    "sub = make_submission(test_csv)\n",
    "name_idx = [int(i.split('.')[0]) for i in leak_name]"
   ]
  },
  {
   "cell_type": "code",
   "execution_count": 156,
   "metadata": {
    "collapsed": false
   },
   "outputs": [
    {
     "data": {
      "text/html": [
       "<div>\n",
       "<table border=\"1\" class=\"dataframe\">\n",
       "  <thead>\n",
       "    <tr style=\"text-align: right;\">\n",
       "      <th></th>\n",
       "      <th>Type_1</th>\n",
       "      <th>Type_2</th>\n",
       "      <th>Type_3</th>\n",
       "      <th>labels</th>\n",
       "    </tr>\n",
       "    <tr>\n",
       "      <th>image_name</th>\n",
       "      <th></th>\n",
       "      <th></th>\n",
       "      <th></th>\n",
       "      <th></th>\n",
       "    </tr>\n",
       "  </thead>\n",
       "  <tbody>\n",
       "    <tr>\n",
       "      <th>2.jpg</th>\n",
       "      <td>0.269184</td>\n",
       "      <td>0.655147</td>\n",
       "      <td>0.075669</td>\n",
       "      <td>2</td>\n",
       "    </tr>\n",
       "    <tr>\n",
       "      <th>14.jpg</th>\n",
       "      <td>0.048228</td>\n",
       "      <td>0.493375</td>\n",
       "      <td>0.458396</td>\n",
       "      <td>3</td>\n",
       "    </tr>\n",
       "    <tr>\n",
       "      <th>61.jpg</th>\n",
       "      <td>0.090551</td>\n",
       "      <td>0.900680</td>\n",
       "      <td>0.008768</td>\n",
       "      <td>2</td>\n",
       "    </tr>\n",
       "    <tr>\n",
       "      <th>120.jpg</th>\n",
       "      <td>0.280826</td>\n",
       "      <td>0.699566</td>\n",
       "      <td>0.019608</td>\n",
       "      <td>3</td>\n",
       "    </tr>\n",
       "    <tr>\n",
       "      <th>141.jpg</th>\n",
       "      <td>0.165202</td>\n",
       "      <td>0.607221</td>\n",
       "      <td>0.227577</td>\n",
       "      <td>2</td>\n",
       "    </tr>\n",
       "    <tr>\n",
       "      <th>149.jpg</th>\n",
       "      <td>0.107680</td>\n",
       "      <td>0.363412</td>\n",
       "      <td>0.528908</td>\n",
       "      <td>2</td>\n",
       "    </tr>\n",
       "    <tr>\n",
       "      <th>178.jpg</th>\n",
       "      <td>0.039353</td>\n",
       "      <td>0.443570</td>\n",
       "      <td>0.517076</td>\n",
       "      <td>1</td>\n",
       "    </tr>\n",
       "    <tr>\n",
       "      <th>186.jpg</th>\n",
       "      <td>0.049509</td>\n",
       "      <td>0.852027</td>\n",
       "      <td>0.098464</td>\n",
       "      <td>2</td>\n",
       "    </tr>\n",
       "    <tr>\n",
       "      <th>230.jpg</th>\n",
       "      <td>0.031339</td>\n",
       "      <td>0.911800</td>\n",
       "      <td>0.056860</td>\n",
       "      <td>1</td>\n",
       "    </tr>\n",
       "    <tr>\n",
       "      <th>234.jpg</th>\n",
       "      <td>0.021223</td>\n",
       "      <td>0.348439</td>\n",
       "      <td>0.630338</td>\n",
       "      <td>2</td>\n",
       "    </tr>\n",
       "    <tr>\n",
       "      <th>258.jpg</th>\n",
       "      <td>0.041988</td>\n",
       "      <td>0.768103</td>\n",
       "      <td>0.189910</td>\n",
       "      <td>3</td>\n",
       "    </tr>\n",
       "    <tr>\n",
       "      <th>289.jpg</th>\n",
       "      <td>0.159047</td>\n",
       "      <td>0.771866</td>\n",
       "      <td>0.069087</td>\n",
       "      <td>2</td>\n",
       "    </tr>\n",
       "    <tr>\n",
       "      <th>308.jpg</th>\n",
       "      <td>0.109202</td>\n",
       "      <td>0.885363</td>\n",
       "      <td>0.005435</td>\n",
       "      <td>2</td>\n",
       "    </tr>\n",
       "    <tr>\n",
       "      <th>322.jpg</th>\n",
       "      <td>0.135730</td>\n",
       "      <td>0.371047</td>\n",
       "      <td>0.493224</td>\n",
       "      <td>3</td>\n",
       "    </tr>\n",
       "    <tr>\n",
       "      <th>369.jpg</th>\n",
       "      <td>0.046432</td>\n",
       "      <td>0.860575</td>\n",
       "      <td>0.092994</td>\n",
       "      <td>2</td>\n",
       "    </tr>\n",
       "    <tr>\n",
       "      <th>378.jpg</th>\n",
       "      <td>0.020799</td>\n",
       "      <td>0.130094</td>\n",
       "      <td>0.849108</td>\n",
       "      <td>2</td>\n",
       "    </tr>\n",
       "    <tr>\n",
       "      <th>380.jpg</th>\n",
       "      <td>0.048807</td>\n",
       "      <td>0.729552</td>\n",
       "      <td>0.221642</td>\n",
       "      <td>2</td>\n",
       "    </tr>\n",
       "    <tr>\n",
       "      <th>385.jpg</th>\n",
       "      <td>0.030777</td>\n",
       "      <td>0.625400</td>\n",
       "      <td>0.343824</td>\n",
       "      <td>2</td>\n",
       "    </tr>\n",
       "    <tr>\n",
       "      <th>422.jpg</th>\n",
       "      <td>0.001375</td>\n",
       "      <td>0.159335</td>\n",
       "      <td>0.839290</td>\n",
       "      <td>3</td>\n",
       "    </tr>\n",
       "    <tr>\n",
       "      <th>432.jpg</th>\n",
       "      <td>0.001400</td>\n",
       "      <td>0.069678</td>\n",
       "      <td>0.928921</td>\n",
       "      <td>3</td>\n",
       "    </tr>\n",
       "    <tr>\n",
       "      <th>434.jpg</th>\n",
       "      <td>0.221807</td>\n",
       "      <td>0.421123</td>\n",
       "      <td>0.357070</td>\n",
       "      <td>1</td>\n",
       "    </tr>\n",
       "    <tr>\n",
       "      <th>500.jpg</th>\n",
       "      <td>0.031473</td>\n",
       "      <td>0.948876</td>\n",
       "      <td>0.019651</td>\n",
       "      <td>2</td>\n",
       "    </tr>\n",
       "  </tbody>\n",
       "</table>\n",
       "</div>"
      ],
      "text/plain": [
       "              Type_1    Type_2    Type_3  labels\n",
       "image_name                                      \n",
       "2.jpg       0.269184  0.655147  0.075669       2\n",
       "14.jpg      0.048228  0.493375  0.458396       3\n",
       "61.jpg      0.090551  0.900680  0.008768       2\n",
       "120.jpg     0.280826  0.699566  0.019608       3\n",
       "141.jpg     0.165202  0.607221  0.227577       2\n",
       "149.jpg     0.107680  0.363412  0.528908       2\n",
       "178.jpg     0.039353  0.443570  0.517076       1\n",
       "186.jpg     0.049509  0.852027  0.098464       2\n",
       "230.jpg     0.031339  0.911800  0.056860       1\n",
       "234.jpg     0.021223  0.348439  0.630338       2\n",
       "258.jpg     0.041988  0.768103  0.189910       3\n",
       "289.jpg     0.159047  0.771866  0.069087       2\n",
       "308.jpg     0.109202  0.885363  0.005435       2\n",
       "322.jpg     0.135730  0.371047  0.493224       3\n",
       "369.jpg     0.046432  0.860575  0.092994       2\n",
       "378.jpg     0.020799  0.130094  0.849108       2\n",
       "380.jpg     0.048807  0.729552  0.221642       2\n",
       "385.jpg     0.030777  0.625400  0.343824       2\n",
       "422.jpg     0.001375  0.159335  0.839290       3\n",
       "432.jpg     0.001400  0.069678  0.928921       3\n",
       "434.jpg     0.221807  0.421123  0.357070       1\n",
       "500.jpg     0.031473  0.948876  0.019651       2"
      ]
     },
     "execution_count": 156,
     "metadata": {},
     "output_type": "execute_result"
    }
   ],
   "source": [
    "df = sub.iloc[name_idx].copy()\n",
    "df['labels'] = leak_label\n",
    "df['indexNumber'] = [int(i.split('.')[0]) for i in df.index]\n",
    "df.sort_values(['indexNumber'], ascending = [True], inplace = True)\n",
    "df.drop('indexNumber', 1, inplace = True)\n",
    "df"
   ]
  },
  {
   "cell_type": "code",
   "execution_count": 191,
   "metadata": {
    "collapsed": false
   },
   "outputs": [
    {
     "name": "stdout",
     "output_type": "stream",
     "text": [
      "(22, 3)\n",
      "(22, 3)\n",
      "<class 'pandas.core.frame.DataFrame'>\n",
      "<class 'pandas.core.frame.DataFrame'>\n"
     ]
    }
   ],
   "source": [
    "# sub.iloc[name_idx].where(sub.iloc[name_idx]['Type_1'] > 0.01)\n",
    "sub = make_submission(test_csv)\n",
    "s = pd.Series(leak_label)\n",
    "dummy = pd.get_dummies(s)\n",
    "print dummy.shape\n",
    "print sub.iloc[name_idx].shape\n",
    "print type(dummy)\n",
    "print type(sub.iloc[name_idx])\n",
    "sub.iloc[name_idx] = dummy.values\n",
    "sub.to_csv(csv_dir + 'submission_inception_v3_2_L.csv')\n",
    "# s.columns\n",
    "# [i == 1 for i in leak_label]\n",
    "# sub.iloc[name_idx].where(sub.iloc[name_idx]['Type_1'] == [i == 1 for i in leak_label])"
   ]
  },
  {
   "cell_type": "code",
   "execution_count": null,
   "metadata": {
    "collapsed": true
   },
   "outputs": [],
   "source": []
  }
 ],
 "metadata": {
  "kernelspec": {
   "display_name": "Python 2",
   "language": "python",
   "name": "python2"
  },
  "language_info": {
   "codemirror_mode": {
    "name": "ipython",
    "version": 2
   },
   "file_extension": ".py",
   "mimetype": "text/x-python",
   "name": "python",
   "nbconvert_exporter": "python",
   "pygments_lexer": "ipython2",
   "version": "2.7.13"
  }
 },
 "nbformat": 4,
 "nbformat_minor": 0
}
