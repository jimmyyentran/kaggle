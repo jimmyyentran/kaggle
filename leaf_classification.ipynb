{
 "cells": [
  {
   "cell_type": "code",
   "execution_count": 1,
   "metadata": {
    "collapsed": true
   },
   "outputs": [],
   "source": [
    "from scipy import misc\n",
    "import numpy as np\n",
    "import pandas as pd"
   ]
  },
  {
   "cell_type": "code",
   "execution_count": 2,
   "metadata": {
    "collapsed": false,
    "scrolled": true
   },
   "outputs": [
    {
     "name": "stdout",
     "output_type": "stream",
     "text": [
      "(1584, 122500)\n"
     ]
    }
   ],
   "source": [
    "#input parameters\n",
    "single_side = 350\n",
    "n_input = single_side * single_side\n",
    "num_images = 1584\n",
    "\n",
    "image_dir = 'images/processed_2/'\n",
    "\n",
    "train_im = np.zeros(shape=(num_images, n_input)) # initiate array\n",
    "for i in range(1,num_images):\n",
    "    im = misc.imread(image_dir + str(i) + \".jpg\") # transform to matrix\n",
    "    train_im[i-1] = im.ravel() # Shift index due to numpy's zero-indexing\n",
    "print train_im.shape"
   ]
  },
  {
   "cell_type": "markdown",
   "metadata": {},
   "source": [
    "Image vector contains 1584 images each with 122500 columns containing the greyscale value"
   ]
  },
  {
   "cell_type": "code",
   "execution_count": 3,
   "metadata": {
    "collapsed": false
   },
   "outputs": [
    {
     "name": "stdout",
     "output_type": "stream",
     "text": [
      "(990, 194)\n"
     ]
    }
   ],
   "source": [
    "train_csv = pd.read_csv('train.csv')\n",
    "print train_csv.shape # training has the \"species\" column"
   ]
  },
  {
   "cell_type": "code",
   "execution_count": 4,
   "metadata": {
    "collapsed": false
   },
   "outputs": [
    {
     "name": "stdout",
     "output_type": "stream",
     "text": [
      "(990, 122500)\n"
     ]
    }
   ],
   "source": [
    "train_idx = train_csv['id'] - 1 # subtract 1 to take care of zero-indexing\n",
    "train = train_im[train_idx] # extract training pictures from images\n",
    "print train.shape"
   ]
  },
  {
   "cell_type": "code",
   "execution_count": 5,
   "metadata": {
    "collapsed": false
   },
   "outputs": [
    {
     "name": "stdout",
     "output_type": "stream",
     "text": [
      "(990, 99)\n"
     ]
    }
   ],
   "source": [
    "labels = pd.get_dummies(train_csv['species']) # one-hot encoding\n",
    "labels = labels.as_matrix() # convert dataframe to matrix\n",
    "print labels.shape"
   ]
  },
  {
   "cell_type": "code",
   "execution_count": 6,
   "metadata": {
    "collapsed": false
   },
   "outputs": [
    {
     "name": "stdout",
     "output_type": "stream",
     "text": [
      "(790, 122500)\n",
      "(790, 99)\n",
      "(200, 122500)\n",
      "(200, 99)\n"
     ]
    }
   ],
   "source": [
    "train_num = 790\n",
    "\n",
    "temp = np.hstack((train, labels)) # combine matrix column-wise\n",
    "np.random.shuffle(temp)\n",
    "train = temp[:,:n_input][:train_num]\n",
    "labels = temp[:,n_input:][:train_num]\n",
    "test_image = temp[:,:n_input][train_num:]\n",
    "test_labels = temp[:,n_input:][train_num:]\n",
    "\n",
    "print train.shape\n",
    "print labels.shape\n",
    "print test_image.shape\n",
    "print test_labels.shape"
   ]
  },
  {
   "cell_type": "code",
   "execution_count": 24,
   "metadata": {
    "collapsed": false
   },
   "outputs": [],
   "source": [
    "np.save('data_grayscale.npy', temp)"
   ]
  },
  {
   "cell_type": "code",
   "execution_count": 7,
   "metadata": {
    "collapsed": true
   },
   "outputs": [],
   "source": [
    "import tensorflow as tf"
   ]
  },
  {
   "cell_type": "code",
   "execution_count": 19,
   "metadata": {
    "collapsed": false
   },
   "outputs": [],
   "source": [
    "# Parameters\n",
    "learning_rate = 0.0008\n",
    "training_epochs = 10\n",
    "batch_size = 100\n",
    "display_step = 1\n",
    "num_examples = 700\n",
    "\n",
    "# Network Parameters\n",
    "n_hidden_1 = 1000 # 1st layer number of features\n",
    "n_hidden_2 = 1000 # 2nd layer number of features\n",
    "# n_input - from above\n",
    "n_classes = 99 # one-hot shows 99 species\n",
    "\n",
    "# tf Graph input\n",
    "x = tf.placeholder(\"float\", [None, n_input])\n",
    "y = tf.placeholder(\"float\", [None, n_classes])"
   ]
  },
  {
   "cell_type": "markdown",
   "metadata": {},
   "source": [
    "batch size of 10 results in nan costs"
   ]
  },
  {
   "cell_type": "code",
   "execution_count": 20,
   "metadata": {
    "collapsed": true
   },
   "outputs": [],
   "source": [
    "# Create model\n",
    "def multilayer_perceptron(x, weights, biases):\n",
    "    # Hidden layer with RELU activation\n",
    "    layer_1 = tf.add(tf.matmul(x, weights['h1']), biases['b1'])\n",
    "    layer_1 = tf.nn.relu(layer_1)\n",
    "    # Hidden layer with RELU activation\n",
    "    layer_2 = tf.add(tf.matmul(layer_1, weights['h2']), biases['b2'])\n",
    "    layer_2 = tf.nn.relu(layer_2)\n",
    "    # Output layer with linear activation\n",
    "    out_layer = tf.matmul(layer_2, weights['out']) + biases['out']\n",
    "    return out_layer"
   ]
  },
  {
   "cell_type": "code",
   "execution_count": 21,
   "metadata": {
    "collapsed": false
   },
   "outputs": [],
   "source": [
    "# Store layers weight & bias\n",
    "weights = {\n",
    "    'h1': tf.Variable(tf.random_normal([n_input, n_hidden_1])),\n",
    "    'h2': tf.Variable(tf.random_normal([n_hidden_1, n_hidden_2])),\n",
    "    'out': tf.Variable(tf.random_normal([n_hidden_2, n_classes]))\n",
    "}\n",
    "biases = {\n",
    "    'b1': tf.Variable(tf.random_normal([n_hidden_1])),\n",
    "    'b2': tf.Variable(tf.random_normal([n_hidden_2])),\n",
    "    'out': tf.Variable(tf.random_normal([n_classes]))\n",
    "}\n",
    "\n",
    "# Construct model\n",
    "pred = multilayer_perceptron(x, weights, biases)\n",
    "\n",
    "# Define loss and optimizer\n",
    "cost = tf.reduce_mean(tf.nn.softmax_cross_entropy_with_logits(logits=pred, labels=y))\n",
    "optimizer = tf.train.AdamOptimizer(learning_rate=learning_rate).minimize(cost)\n",
    "\n",
    "# Initializing the variables\n",
    "init = tf.initialize_all_variables() # used older version of global_variables_initializer"
   ]
  },
  {
   "cell_type": "code",
   "execution_count": 22,
   "metadata": {
    "collapsed": false
   },
   "outputs": [
    {
     "name": "stdout",
     "output_type": "stream",
     "text": [
      "Epoch: 0001 cost= 38842062.857142858\n",
      "Epoch: 0002 cost= 10126360.071428571\n",
      "Epoch: 0003 cost= 2494329.214285714\n",
      "Epoch: 0004 cost= 896846.803571429\n",
      "Epoch: 0005 cost= 304710.132812500\n",
      "Epoch: 0006 cost= 1637.479370117\n",
      "Epoch: 0007 cost= 1985.273018973\n",
      "Epoch: 0008 cost= 97.234917777\n",
      "Epoch: 0009 cost= 0.000000000\n",
      "Epoch: 0010 cost= 232.476196289\n",
      "Optimization Finished!\n",
      "Train Accuracy: 0.216456\n",
      "Test Accuracy: 0.105\n"
     ]
    }
   ],
   "source": [
    "# Launch the graph\n",
    "with tf.Session() as sess:\n",
    "    sess.run(init)\n",
    "\n",
    "    # Training cycle\n",
    "    for epoch in range(training_epochs):\n",
    "        avg_cost = 0.\n",
    "        total_batch = int(num_examples/batch_size)\n",
    "        # Loop over all batches\n",
    "        for i in range(total_batch):\n",
    "            begin = total_batch * batch_size\n",
    "            end = begin + batch_size\n",
    "            batch_x = train[begin:end]\n",
    "            batch_y = labels[begin:end]\n",
    "            # Run optimization op (backprop) and cost op (to get loss value)\n",
    "            _, c = sess.run([optimizer, cost], feed_dict={x: batch_x,\n",
    "                                                          y: batch_y})\n",
    "            # Compute average loss\n",
    "            avg_cost += c / total_batch\n",
    "        # Display logs per epoch step\n",
    "        if epoch % display_step == 0:\n",
    "            print \"Epoch:\", '%04d' % (epoch+1), \"cost=\", \\\n",
    "                \"{:.9f}\".format(avg_cost)\n",
    "#             accuracy = tf.reduce_mean(tf.cast(correct_prediction, \"float\"))\n",
    "#             print \"Train Accuracy:\", accuracy.eval({x: train, y: labels})\n",
    "#             print \"Test Accuracy:\", accuracy.eval({x: test_image, y: test_labels})\n",
    "    print \"Optimization Finished!\"\n",
    "\n",
    "    # Test model\n",
    "    correct_prediction = tf.equal(tf.argmax(pred, 1), tf.argmax(y, 1))\n",
    "    # Calculate accuracy\n",
    "    accuracy = tf.reduce_mean(tf.cast(correct_prediction, \"float\"))\n",
    "    print \"Train Accuracy:\", accuracy.eval({x: train, y: labels})\n",
    "    print \"Test Accuracy:\", accuracy.eval({x: test_image, y: test_labels})\n",
    "    "
   ]
  },
  {
   "cell_type": "code",
   "execution_count": null,
   "metadata": {
    "collapsed": false
   },
   "outputs": [],
   "source": [
    "train[980:1000]"
   ]
  },
  {
   "cell_type": "code",
   "execution_count": null,
   "metadata": {
    "collapsed": true
   },
   "outputs": [],
   "source": []
  }
 ],
 "metadata": {
  "kernelspec": {
   "display_name": "Python 2",
   "language": "python",
   "name": "python2"
  },
  "language_info": {
   "codemirror_mode": {
    "name": "ipython",
    "version": 2
   },
   "file_extension": ".py",
   "mimetype": "text/x-python",
   "name": "python",
   "nbconvert_exporter": "python",
   "pygments_lexer": "ipython2",
   "version": "2.7.12"
  }
 },
 "nbformat": 4,
 "nbformat_minor": 0
}
