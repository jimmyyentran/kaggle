{
 "cells": [
  {
   "cell_type": "code",
   "execution_count": 2,
   "metadata": {
    "collapsed": false,
    "deletable": true,
    "editable": true
   },
   "outputs": [],
   "source": [
    "from evaluator import *\n",
    "import pandas as pd\n",
    "import sklearn.preprocessing as pp\n",
    "from scipy import misc"
   ]
  },
  {
   "cell_type": "code",
   "execution_count": null,
   "metadata": {
    "collapsed": false,
    "deletable": true,
    "editable": true
   },
   "outputs": [],
   "source": [
    "def make_csv(mdl_name, data_name, cnn_mlp=False):\n",
    "    ir = ImageRecognition()\n",
    "    #  ir.load_processed_data('data/data_image_100.pkl')\n",
    "    #  load_metadata('metadata_02-20-2017_02:10:32.pkl')\n",
    "    ir.load_processed_data(data_name)\n",
    "    test = ir.data[:, :-99]\n",
    "    label = ir.data[:, -99:]\n",
    "    metadata = dict(\n",
    "        test=test,\n",
    "        test_labels=label,\n",
    "        id=ir.identifier,\n",
    "        one_hot_names=ir.one_hot_names,\n",
    "        n_input=ir.n_input,\n",
    "        model_name = mdl_name,\n",
    "        weight_dir=\"weight/\",\n",
    "        prediction_dir=\"predictions/\",\n",
    "        tensor_name=\"output/activation:0\",\n",
    "        input_x_tensor_name=\"input_1/x-input:0\",\n",
    "        input_y_tensor_name=\"input_1/y-input:0\",\n",
    "        learning_rate=0.01,\n",
    "        debug=True)\n",
    "\n",
    "#     load_session_and_save_prediction(**metadata)\n",
    "#     pred = load_predictions(metadata['prediction_dir'] + metadata['model_name'])\n",
    "#     return pred\n",
    "    test_csv = pd.read_csv('csv/test.csv')\n",
    "    test_data = test_csv.drop(['id'], axis=1).as_matrix()\n",
    "    n_input = test_data.shape[1]\n",
    "    identifier = test_csv['id'].as_matrix()\n",
    "    \n",
    "    sess = load_session(metadata['weight_dir']+metadata['model_name'])\n",
    "    y_ = get_tensor(sess, metadata['tensor_name'])\n",
    "    if cnn_mlp:\n",
    "        test_img = process_images(100, 'images/processed_100/',1584)\n",
    "        prediction = sess.run(y_,\n",
    "                  feed_dict={'input/keep_probability:0': 1.0,\n",
    "                             'input_1/x-input:0': test_img,\n",
    "                             'x-input2:0': test_data})\n",
    "    else:\n",
    "        prediction = predict(sess, y_, test_data)\n",
    "    \n",
    "    #scale\n",
    "    pred_0_to_1 = pp.minmax_scale(prediction, axis=1)\n",
    "    pred = pred_0_to_1/np.sum(pred_0_to_1, axis=1, keepdims=True)\n",
    "    \n",
    "    df = pd.DataFrame(data=pred, index=identifier,columns=ir.one_hot_names)\n",
    "    df.index.name='id'\n",
    "    return df,pred\n",
    "    "
   ]
  },
  {
   "cell_type": "code",
   "execution_count": null,
   "metadata": {
    "collapsed": true
   },
   "outputs": [],
   "source": [
    "def process_images(single_side, image_dir, num_images):\n",
    "    n_input = single_side * single_side\n",
    "\n",
    "    test_im = np.zeros(shape=(num_images, n_input))  # initiate array\n",
    "    for i in range(1, num_images):\n",
    "        im = misc.imread(image_dir + str(i) + \".jpg\")  # transform to matrix\n",
    "        test_im[i - 1] = im.ravel()  # Shift index due to numpy's zero-indexing\n",
    "\n",
    "    test_csv = pd.read_csv('csv/test.csv')\n",
    "\n",
    "    test_idx = test_csv['id'] - 1  # subtract 1 to take care of zero-indexing\n",
    "    test = test_im[test_idx]  # extract training pictures from images\n",
    "    print \"Train ID images:\", test.shape\n",
    "    \n",
    "    return test\n",
    "    \n",
    "out = process_images(100, 'images/processed_100/',1584)"
   ]
  },
  {
   "cell_type": "code",
   "execution_count": null,
   "metadata": {
    "collapsed": false
   },
   "outputs": [],
   "source": [
    "plt.imshow(np.reshape(out[0], [100,100]), cmap='gray')\n",
    "plt.show()"
   ]
  },
  {
   "cell_type": "code",
   "execution_count": null,
   "metadata": {
    "collapsed": true
   },
   "outputs": [],
   "source": [
    "ipt_sub = import_submission('submissions/test_submission3.csv')"
   ]
  },
  {
   "cell_type": "code",
   "execution_count": null,
   "metadata": {
    "collapsed": true,
    "deletable": true,
    "editable": true
   },
   "outputs": [],
   "source": [
    "df,pred = make_csv('cnn_mlp_02-25-2017_22:26:54-399', 'data/data_image_100_csv.pkl', True)\n"
   ]
  },
  {
   "cell_type": "code",
   "execution_count": null,
   "metadata": {
    "collapsed": true
   },
   "outputs": [],
   "source": [
    "\n",
    "print df.head(20).max(axis=1)\n",
    "print df.head(20).idxmax(axis=1)\n",
    "print\n",
    "print ipt_sub.head(20).drop('id', axis=1).max(axis=1)\n",
    "print ipt_sub.head(20).drop('id', axis=1).idxmax(axis=1)"
   ]
  },
  {
   "cell_type": "code",
   "execution_count": 12,
   "metadata": {
    "collapsed": false
   },
   "outputs": [
    {
     "name": "stdout",
     "output_type": "stream",
     "text": [
      "(594, 100)\n",
      "(594, 100)\n"
     ]
    }
   ],
   "source": [
    "ipt_sub = pd.read_csv('test_submission6.csv')\n",
    "sub = pd.read_csv('submit.csv')\n",
    "print ipt_sub.shape\n",
    "print sub.shape"
   ]
  },
  {
   "cell_type": "code",
   "execution_count": 16,
   "metadata": {
    "collapsed": false
   },
   "outputs": [
    {
     "name": "stdout",
     "output_type": "stream",
     "text": [
      "ipt_sub\n",
      "0         Quercus_Agrifolia\n",
      "1            Quercus_Afares\n",
      "2           Acer_Circinatum\n",
      "3           Castanea_Sativa\n",
      "4             Alnus_Viridis\n",
      "5               Acer_Opalus\n",
      "6               Acer_Opalus\n",
      "7    Eucalyptus_Glaucescens\n",
      "8        Quercus_Variabilis\n",
      "9            Acer_Rufinerve\n",
      "dtype: object\n",
      "584      Magnolia_Salicifolia\n",
      "585             Quercus_Suber\n",
      "586           Quercus_Brantii\n",
      "587      Callicarpa_Bodinieri\n",
      "588       Cytisus_Battandieri\n",
      "589           Acer_Circinatum\n",
      "590               Alnus_Rubra\n",
      "591       Quercus_Canariensis\n",
      "592    Quercus_Phillyraeoides\n",
      "593       Arundinaria_Simonii\n",
      "dtype: object\n",
      "sub\n",
      "0         Quercus_Agrifolia\n",
      "1            Quercus_Afares\n",
      "2           Acer_Circinatum\n",
      "3           Castanea_Sativa\n",
      "4             Alnus_Viridis\n",
      "5               Acer_Opalus\n",
      "6               Acer_Opalus\n",
      "7    Eucalyptus_Glaucescens\n",
      "8        Quercus_Variabilis\n",
      "9            Acer_Rufinerve\n",
      "dtype: object\n",
      "584      Magnolia_Salicifolia\n",
      "585             Quercus_Suber\n",
      "586           Quercus_Brantii\n",
      "587      Callicarpa_Bodinieri\n",
      "588       Cytisus_Battandieri\n",
      "589           Acer_Circinatum\n",
      "590               Alnus_Rubra\n",
      "591       Quercus_Canariensis\n",
      "592    Quercus_Phillyraeoides\n",
      "593       Arundinaria_Simonii\n",
      "dtype: object\n"
     ]
    }
   ],
   "source": [
    "ipt_sub_max = ipt_sub.drop('id', axis=1).idxmax(axis=1)\n",
    "sub_max = sub.drop('id',axis=1).idxmax(axis=1)\n",
    "print \"ipt_sub\"\n",
    "print ipt_sub_max.head(10)\n",
    "print ipt_sub_max.tail(10)\n",
    "print \"sub\"\n",
    "print sub_max.head(10)\n",
    "print sub_max.tail(10)"
   ]
  },
  {
   "cell_type": "code",
   "execution_count": 8,
   "metadata": {
    "collapsed": false
   },
   "outputs": [
    {
     "name": "stdout",
     "output_type": "stream",
     "text": [
      "0              Quercus_Agrifolia\n",
      "1                 Quercus_Afares\n",
      "2                Acer_Circinatum\n",
      "3                Castanea_Sativa\n",
      "4                  Alnus_Viridis\n",
      "5                    Acer_Opalus\n",
      "6                    Acer_Opalus\n",
      "7         Eucalyptus_Glaucescens\n",
      "8             Quercus_Variabilis\n",
      "9                 Acer_Rufinerve\n",
      "10                   Phildelphus\n",
      "11               Quercus_Pontica\n",
      "12             Quercus_Pubescens\n",
      "13                 Alnus_Cordata\n",
      "14             Quercus_Alnifolia\n",
      "15                 Populus_Nigra\n",
      "16         Populus_Grandidentata\n",
      "17        Quercus_Phillyraeoides\n",
      "18             Alnus_Sieboldiana\n",
      "19             Quercus_Palustris\n",
      "20             Quercus_Crassipes\n",
      "21        Quercus_Infectoria_sub\n",
      "22           Quercus_Chrysolepis\n",
      "23           Quercus_Rhysophylla\n",
      "24               Acer_Circinatum\n",
      "25                 Quercus_Nigra\n",
      "26        Eucalyptus_Glaucescens\n",
      "27           Arundinaria_Simonii\n",
      "28       Liquidambar_Styraciflua\n",
      "29                 Quercus_Nigra\n",
      "                 ...            \n",
      "563       Quercus_Infectoria_sub\n",
      "564           Crataegus_Monogyna\n",
      "565                Tilia_Oliveri\n",
      "566        Betula_Austrosinensis\n",
      "567                Quercus_Suber\n",
      "568    Lithocarpus_Cleistocarpus\n",
      "569                Alnus_Viridis\n",
      "570           Tilia_Platyphyllos\n",
      "571            Quercus_Shumardii\n",
      "572              Quercus_Brantii\n",
      "573                Populus_Nigra\n",
      "574            Cotinus_Coggygria\n",
      "575               Quercus_Afares\n",
      "576                  Acer_Rubrum\n",
      "577    Lithocarpus_Cleistocarpus\n",
      "578           Tilia_Platyphyllos\n",
      "579              Acer_Capillipes\n",
      "580            Celtis_Koraiensis\n",
      "581          Quercus_Canariensis\n",
      "582                Alnus_Cordata\n",
      "583                  Sorbus_Aria\n",
      "584         Magnolia_Salicifolia\n",
      "585                Quercus_Suber\n",
      "586              Quercus_Brantii\n",
      "587         Callicarpa_Bodinieri\n",
      "588          Cytisus_Battandieri\n",
      "589              Acer_Circinatum\n",
      "590                  Alnus_Rubra\n",
      "591          Quercus_Canariensis\n",
      "592               Betula_Pendula\n",
      "dtype: object\n",
      "0              Quercus_Agrifolia\n",
      "1                 Quercus_Afares\n",
      "2                Acer_Circinatum\n",
      "3                Castanea_Sativa\n",
      "4                  Alnus_Viridis\n",
      "5                    Acer_Opalus\n",
      "6                    Acer_Opalus\n",
      "7         Eucalyptus_Glaucescens\n",
      "8             Quercus_Variabilis\n",
      "9                 Acer_Rufinerve\n",
      "10                   Phildelphus\n",
      "11               Quercus_Pontica\n",
      "12             Quercus_Pubescens\n",
      "13                 Alnus_Cordata\n",
      "14             Quercus_Alnifolia\n",
      "15                 Populus_Nigra\n",
      "16         Populus_Grandidentata\n",
      "17        Quercus_Phillyraeoides\n",
      "18             Alnus_Sieboldiana\n",
      "19             Quercus_Palustris\n",
      "20             Quercus_Crassipes\n",
      "21        Quercus_Infectoria_sub\n",
      "22           Quercus_Chrysolepis\n",
      "23           Quercus_Rhysophylla\n",
      "24               Acer_Circinatum\n",
      "25                 Quercus_Nigra\n",
      "26        Eucalyptus_Glaucescens\n",
      "27           Arundinaria_Simonii\n",
      "28       Liquidambar_Styraciflua\n",
      "29                 Quercus_Nigra\n",
      "                 ...            \n",
      "564           Crataegus_Monogyna\n",
      "565                Tilia_Oliveri\n",
      "566        Betula_Austrosinensis\n",
      "567                Quercus_Suber\n",
      "568    Lithocarpus_Cleistocarpus\n",
      "569                Alnus_Viridis\n",
      "570           Tilia_Platyphyllos\n",
      "571            Quercus_Shumardii\n",
      "572              Quercus_Brantii\n",
      "573                Populus_Nigra\n",
      "574            Cotinus_Coggygria\n",
      "575               Quercus_Afares\n",
      "576                  Acer_Rubrum\n",
      "577    Lithocarpus_Cleistocarpus\n",
      "578           Tilia_Platyphyllos\n",
      "579              Acer_Capillipes\n",
      "580            Celtis_Koraiensis\n",
      "581          Quercus_Canariensis\n",
      "582                Alnus_Cordata\n",
      "583                  Sorbus_Aria\n",
      "584         Magnolia_Salicifolia\n",
      "585                Quercus_Suber\n",
      "586              Quercus_Brantii\n",
      "587         Callicarpa_Bodinieri\n",
      "588          Cytisus_Battandieri\n",
      "589              Acer_Circinatum\n",
      "590                  Alnus_Rubra\n",
      "591          Quercus_Canariensis\n",
      "592       Quercus_Phillyraeoides\n",
      "593          Arundinaria_Simonii\n",
      "dtype: object\n"
     ]
    }
   ],
   "source": [
    "print ipt_sub_max\n",
    "print sub_max"
   ]
  },
  {
   "cell_type": "code",
   "execution_count": 21,
   "metadata": {
    "collapsed": false
   },
   "outputs": [
    {
     "name": "stdout",
     "output_type": "stream",
     "text": [
      "Int64Index([127], dtype='int64')\n",
      "\n",
      "ipt prediction\n",
      "127    Populus_Adenopoda\n",
      "dtype: object\n",
      "127    0.562187\n",
      "dtype: float64\n",
      "\n",
      "sub prediction\n",
      "127    Fagus_Sylvatica\n",
      "dtype: object\n",
      "127    0.910051\n",
      "dtype: float64\n",
      "\n",
      "image id\n",
      "127    297\n",
      "Name: id, dtype: int64\n"
     ]
    }
   ],
   "source": [
    "diff = ipt_sub_max == sub_max\n",
    "diff_idx =  diff[diff == False]\n",
    "\n",
    "print diff_idx.index\n",
    "print\n",
    "print \"ipt prediction\"\n",
    "print ipt_sub_max[diff_idx.index]\n",
    "print ipt_sub.loc[diff_idx.index].drop('id', axis=1).max(axis=1)\n",
    "print\n",
    "print \"sub prediction\"\n",
    "print sub_max[diff_idx.index]\n",
    "print sub.loc[diff_idx.index].drop('id', axis=1).max(axis=1)\n",
    "print\n",
    "print \"image id\"\n",
    "print sub.loc[diff_idx.index]['id']"
   ]
  },
  {
   "cell_type": "code",
   "execution_count": 43,
   "metadata": {
    "collapsed": false
   },
   "outputs": [
    {
     "name": "stdout",
     "output_type": "stream",
     "text": [
      "IPT_SUB LOWEST PREDICTIONS\n",
      "            0    id                       1\n",
      "127  0.562187   297       Populus_Adenopoda\n",
      "490  0.598062  1304  Eucalyptus_Glaucescens\n",
      "350  0.704368   947  Quercus_Semecarpifolia\n",
      "130  0.705732   301      Cornus_Controversa\n",
      "545  0.750924  1447     Quercus_x_Hispanica\n",
      "37   0.772052    97   Quercus_Castaneifolia\n",
      "517  0.824912  1382        Quercus_Kewensis\n",
      "416  0.893319  1109       Quercus_Palustris\n",
      "258  0.903441   665   Quercus_Castaneifolia\n",
      "581  0.930529  1546     Quercus_Canariensis\n",
      "303  0.939084   790          Betula_Pendula\n",
      "313  0.958606   829      Lithocarpus_Edulis\n",
      "136  0.968121   318     Eucalyptus_Neglecta\n",
      "448  0.969741  1190          Betula_Pendula\n",
      "328  0.977932   887   Quercus_Castaneifolia\n",
      "142  0.980679   347     Quercus_x_Hispanica\n",
      "407  0.981037  1092     Eucalyptus_Neglecta\n",
      "479  0.987938  1274             Alnus_Rubra\n",
      "193  0.989388   500      Alnus_Maximowiczii\n",
      "230  0.991645   587           Tilia_Oliveri\n",
      "\n",
      "SUB LOWEST PREDICTIONS\n",
      "            0    id                       1\n",
      "490  0.494130  1304  Eucalyptus_Glaucescens\n",
      "313  0.639601   829      Lithocarpus_Edulis\n",
      "517  0.646227  1382        Quercus_Kewensis\n",
      "37   0.850975    97   Quercus_Castaneifolia\n",
      "350  0.885175   947  Quercus_Semecarpifolia\n",
      "130  0.900854   301      Cornus_Controversa\n",
      "127  0.910051   297         Fagus_Sylvatica\n",
      "136  0.942569   318     Eucalyptus_Neglecta\n",
      "15   0.943478    46           Populus_Nigra\n",
      "460  0.966388  1215   Quercus_Ellipsoidalis\n",
      "328  0.968404   887   Quercus_Castaneifolia\n",
      "258  0.977613   665   Quercus_Castaneifolia\n",
      "142  0.981606   347     Quercus_x_Hispanica\n",
      "545  0.982169  1447     Quercus_x_Hispanica\n",
      "508  0.989782  1357        Quercus_Kewensis\n",
      "581  0.991223  1546     Quercus_Canariensis\n",
      "162  0.991609   403           Populus_Nigra\n",
      "448  0.993602  1190          Betula_Pendula\n",
      "166  0.994101   414        Quercus_Kewensis\n",
      "407  0.994143  1092     Eucalyptus_Neglecta\n"
     ]
    }
   ],
   "source": [
    "print \"IPT_SUB LOWEST PREDICTIONS\"\n",
    "n_show = 20\n",
    "ipt_lowest_n = ipt_sub.drop('id',axis=1).max(axis=1).sort_values().head(n_show)\n",
    "low_pred2 = ipt_sub.drop('id',axis=1).max(axis=1).sort_values().head(n_show).index\n",
    "ipt_lowest_id = ipt_sub.loc[low_pred2]['id']\n",
    "ipt_lowest_name = ipt_sub_max.loc[low_pred2]\n",
    "print pd.concat([ipt_lowest_n, ipt_lowest_id, ipt_lowest_name], axis=1)\n",
    "print\n",
    "print \"SUB LOWEST PREDICTIONS\"\n",
    "sub_lowest_n = sub.drop('id',axis=1).max(axis=1).sort_values().head(n_show)\n",
    "low_pred = sub.drop('id',axis=1).max(axis=1).sort_values().head(n_show).index\n",
    "sub_lowest_id = sub.loc[low_pred]['id']\n",
    "sub_lowest_name = sub_max.loc[low_pred]\n",
    "print pd.concat([sub_lowest_n, sub_lowest_id, sub_lowest_name], axis=1)\n"
   ]
  },
  {
   "cell_type": "code",
   "execution_count": 55,
   "metadata": {
    "collapsed": false
   },
   "outputs": [
    {
     "name": "stdout",
     "output_type": "stream",
     "text": [
      "Save and remove index\n",
      "Axes(0.125,0.125;0.775x0.755)\n"
     ]
    },
    {
     "data": {
      "image/png": "[encoded data removed]",
      "text/plain": [
       "<matplotlib.figure.Figure at 0x7f11bbe20910>"
      ]
     },
     "metadata": {},
     "output_type": "display_data"
    }
   ],
   "source": [
    "print \"Save and remove index\"\n",
    "sub_round = sub.round(0)\n",
    "print sub_round.drop('id', axis=1).sum(axis=1).hist()\n",
    "plt.show()"
   ]
  },
  {
   "cell_type": "code",
   "execution_count": 86,
   "metadata": {
    "collapsed": false
   },
   "outputs": [
    {
     "name": "stdout",
     "output_type": "stream",
     "text": [
      "490\n",
      "Indeed this column is zero: 0.0\n"
     ]
    }
   ],
   "source": [
    "is_zero = sub_round.drop('id', axis=1).sum(axis=1) == 0\n",
    "print is_zero.idxmax()\n",
    "print \"Indeed this column is zero:\", sub_round.iloc[490].drop('id').sum()\n",
    "sub_round_copy = sub_round.copy()"
   ]
  },
  {
   "cell_type": "code",
   "execution_count": 87,
   "metadata": {
    "collapsed": false
   },
   "outputs": [
    {
     "name": "stdout",
     "output_type": "stream",
     "text": [
      "1.0\n",
      "(594, 100)\n",
      "Axes(0.125,0.125;0.775x0.755)\n"
     ]
    },
    {
     "data": {
      "image/png": "[encoded data removed]",
      "text/plain": [
       "<matplotlib.figure.Figure at 0x7f11bbe20910>"
      ]
     },
     "metadata": {},
     "output_type": "display_data"
    }
   ],
   "source": [
    "sub_round_copy.loc[490, 'Eucalyptus_Glaucescens'] = 1\n",
    "print sub_round_copy.iloc[490]['Eucalyptus_Glaucescens'] \n",
    "print sub_round_copy.shape\n",
    "print sub_round_copy.drop('id', axis=1).sum(axis=1).hist()\n",
    "plt.show()"
   ]
  },
  {
   "cell_type": "code",
   "execution_count": 88,
   "metadata": {
    "collapsed": false
   },
   "outputs": [],
   "source": [
    "sub_round_copy.to_csv('test_submission8.csv', index=False)"
   ]
  }
 ],
 "metadata": {
  "kernelspec": {
   "display_name": "Python 2",
   "language": "python",
   "name": "python2"
  },
  "language_info": {
   "codemirror_mode": {
    "name": "ipython",
    "version": 2
   },
   "file_extension": ".py",
   "mimetype": "text/x-python",
   "name": "python",
   "nbconvert_exporter": "python",
   "pygments_lexer": "ipython2",
   "version": "2.7.12"
  }
 },
 "nbformat": 4,
 "nbformat_minor": 2
}
