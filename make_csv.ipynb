{
 "cells": [
  {
   "cell_type": "code",
   "execution_count": 1,
   "metadata": {
    "collapsed": false,
    "deletable": true,
    "editable": true
   },
   "outputs": [],
   "source": [
    "from evaluator import *\n",
    "import pandas as pd\n",
    "import sklearn.preprocessing as pp"
   ]
  },
  {
   "cell_type": "code",
   "execution_count": 49,
   "metadata": {
    "collapsed": true,
    "deletable": true,
    "editable": true
   },
   "outputs": [],
   "source": [
    "def make_csv():\n",
    "    ir = ImageRecognition()\n",
    "    #  ir.load_processed_data('data/data_image_100.pkl')\n",
    "    #  load_metadata('metadata_02-20-2017_02:10:32.pkl')\n",
    "    ir.load_processed_data('data/data_csv_only.pkl')\n",
    "    test = ir.data[:, :-99]\n",
    "    label = ir.data[:, -99:]\n",
    "    metadata = dict(\n",
    "        test=test,\n",
    "        test_labels=label,\n",
    "        id=ir.identifier,\n",
    "        one_hot_names=ir.one_hot_names,\n",
    "        n_input=ir.n_input,\n",
    "        model_name = 'mlp_02-23-2017_06:46:46-199',\n",
    "        weight_dir=\"weight/\",\n",
    "        prediction_dir=\"predictions/\",\n",
    "        tensor_name=\"output/activation:0\",\n",
    "        input_x_tensor_name=\"input_1/x-input:0\",\n",
    "        input_y_tensor_name=\"input_1/y-input:0\",\n",
    "        learning_rate=0.01,\n",
    "        debug=True)\n",
    "\n",
    "#     load_session_and_save_prediction(**metadata)\n",
    "#     pred = load_predictions(metadata['prediction_dir'] + metadata['model_name'])\n",
    "#     return pred\n",
    "    test_csv = pd.read_csv('csv/test.csv')\n",
    "    test_data = test_csv.drop(['id'], axis=1).as_matrix()\n",
    "    n_input = test_data.shape[1]\n",
    "    identifier = test_csv['id'].as_matrix()\n",
    "    \n",
    "    sess = load_session(metadata['weight_dir']+metadata['model_name'])\n",
    "    y_ = get_tensor(sess, metadata['tensor_name'])\n",
    "    prediction = predict(sess, y_, test_data)\n",
    "    \n",
    "    #scale\n",
    "    pred_0_to_1 = pp.minmax_scale(prediction, axis=1)\n",
    "    pred = pred_0_to_1/np.sum(pred_0_to_1, axis=1, keepdims=True)\n",
    "    \n",
    "    df = pd.DataFrame(data=pred, index=identifier,columns=ir.one_hot_names)\n",
    "    df.index.name='id'\n",
    "    return df,pred\n",
    "    "
   ]
  },
  {
   "cell_type": "code",
   "execution_count": 50,
   "metadata": {
    "collapsed": false
   },
   "outputs": [],
   "source": [
    "df,pred = make_csv()\n"
   ]
  },
  {
   "cell_type": "code",
   "execution_count": 51,
   "metadata": {
    "collapsed": false
   },
   "outputs": [
    {
     "data": {
      "text/plain": [
       "array([ 0.00860966,  0.00722096,  0.0057887 ,  0.02284247,  0.00544109,\n",
       "        0.00629637,  0.01195056,  0.        ,  0.00746335,  0.00672085,\n",
       "        0.00977054,  0.00797963,  0.01107451,  0.00758527,  0.00448637,\n",
       "        0.00891771,  0.00845922,  0.00795986,  0.01229754,  0.01151778,\n",
       "        0.00870499,  0.00330319,  0.01043391,  0.00574421,  0.00987229,\n",
       "        0.00520509,  0.01372601,  0.00992724,  0.01190429,  0.01050903,\n",
       "        0.00675416,  0.0129385 ,  0.01395004,  0.00706421,  0.01094361,\n",
       "        0.00604369,  0.01111644,  0.00524123,  0.00715184,  0.00776398,\n",
       "        0.00449313,  0.01215876,  0.01015238,  0.01107574,  0.00841944,\n",
       "        0.01397986,  0.01391597,  0.0107188 ,  0.00576911,  0.00767963,\n",
       "        0.01657474,  0.02078981,  0.01261393,  0.01352408,  0.00909377,\n",
       "        0.02132402,  0.01335472,  0.00561297,  0.01290453,  0.01086604,\n",
       "        0.01059685,  0.01027219,  0.00794293,  0.00957432,  0.01329466,\n",
       "        0.01225146,  0.00552653,  0.00939236,  0.01343192,  0.01737197,\n",
       "        0.00819075,  0.00802516,  0.00577633,  0.00829672,  0.01142537,\n",
       "        0.00976476,  0.01048076,  0.00596825,  0.00903973,  0.0189274 ,\n",
       "        0.01460272,  0.0121563 ,  0.01389101,  0.01197901,  0.01683939,\n",
       "        0.01268042,  0.00796151,  0.01166805,  0.00647987,  0.00826394,\n",
       "        0.01768103,  0.00894691,  0.00966002,  0.0145927 ,  0.00930454,\n",
       "        0.00341544,  0.01256699,  0.00703562,  0.00902214], dtype=float32)"
      ]
     },
     "execution_count": 51,
     "metadata": {},
     "output_type": "execute_result"
    }
   ],
   "source": [
    "pred[0]\n"
   ]
  },
  {
   "cell_type": "code",
   "execution_count": 41,
   "metadata": {
    "collapsed": false
   },
   "outputs": [],
   "source": [
    "df.to_csv('test_submission.csv')\n"
   ]
  }
 ],
 "metadata": {
  "kernelspec": {
   "display_name": "Python 2",
   "language": "python",
   "name": "python2"
  },
  "language_info": {
   "codemirror_mode": {
    "name": "ipython",
    "version": 2
   },
   "file_extension": ".py",
   "mimetype": "text/x-python",
   "name": "python",
   "nbconvert_exporter": "python",
   "pygments_lexer": "ipython2",
   "version": "2.7.12"
  }
 },
 "nbformat": 4,
 "nbformat_minor": 2
}
