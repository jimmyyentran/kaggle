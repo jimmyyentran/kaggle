{
 "cells": [
  {
   "cell_type": "code",
   "execution_count": 1,
   "metadata": {
    "collapsed": true
   },
   "outputs": [],
   "source": [
    "import pandas as pd"
   ]
  },
  {
   "cell_type": "code",
   "execution_count": 5,
   "metadata": {
    "collapsed": true
   },
   "outputs": [],
   "source": [
    "ipt_sub = pd.read_csv('test_submission4.csv')\n",
    "sub = pd.read_csv('test_submission8.csv')"
   ]
  },
  {
   "cell_type": "code",
   "execution_count": 6,
   "metadata": {
    "collapsed": false
   },
   "outputs": [
    {
     "name": "stdout",
     "output_type": "stream",
     "text": [
      "ipt_sub\n",
      "0         Quercus_Agrifolia\n",
      "1            Quercus_Afares\n",
      "2           Acer_Circinatum\n",
      "3           Castanea_Sativa\n",
      "4             Alnus_Viridis\n",
      "5               Acer_Opalus\n",
      "6               Acer_Opalus\n",
      "7    Eucalyptus_Glaucescens\n",
      "8        Quercus_Variabilis\n",
      "9            Acer_Rufinerve\n",
      "dtype: object\n",
      "584      Magnolia_Salicifolia\n",
      "585             Quercus_Suber\n",
      "586           Quercus_Brantii\n",
      "587      Callicarpa_Bodinieri\n",
      "588       Cytisus_Battandieri\n",
      "589           Acer_Circinatum\n",
      "590               Alnus_Rubra\n",
      "591       Quercus_Canariensis\n",
      "592    Quercus_Phillyraeoides\n",
      "593       Arundinaria_Simonii\n",
      "dtype: object\n",
      "sub\n",
      "0         Quercus_Agrifolia\n",
      "1            Quercus_Afares\n",
      "2           Acer_Circinatum\n",
      "3           Castanea_Sativa\n",
      "4             Alnus_Viridis\n",
      "5               Acer_Opalus\n",
      "6               Acer_Opalus\n",
      "7    Eucalyptus_Glaucescens\n",
      "8        Quercus_Variabilis\n",
      "9            Acer_Rufinerve\n",
      "dtype: object\n",
      "584      Magnolia_Salicifolia\n",
      "585             Quercus_Suber\n",
      "586           Quercus_Brantii\n",
      "587      Callicarpa_Bodinieri\n",
      "588       Cytisus_Battandieri\n",
      "589           Acer_Circinatum\n",
      "590               Alnus_Rubra\n",
      "591       Quercus_Canariensis\n",
      "592    Quercus_Phillyraeoides\n",
      "593       Arundinaria_Simonii\n",
      "dtype: object\n"
     ]
    }
   ],
   "source": [
    "ipt_sub_max = ipt_sub.drop('id', axis=1).idxmax(axis=1)\n",
    "sub_max = sub.drop('id',axis=1).idxmax(axis=1)\n",
    "print \"ipt_sub\"\n",
    "print ipt_sub_max.head(10)\n",
    "print ipt_sub_max.tail(10)\n",
    "print \"sub\"\n",
    "print sub_max.head(10)\n",
    "print sub_max.tail(10)"
   ]
  },
  {
   "cell_type": "code",
   "execution_count": 7,
   "metadata": {
    "collapsed": false
   },
   "outputs": [
    {
     "name": "stdout",
     "output_type": "stream",
     "text": [
      "Int64Index([130, 448], dtype='int64')\n",
      "\n",
      "ipt prediction\n",
      "130    Cornus_Macrophylla\n",
      "448           Acer_Rubrum\n",
      "dtype: object\n",
      "130    1\n",
      "448    1\n",
      "dtype: int64\n",
      "\n",
      "sub prediction\n",
      "130    Cornus_Controversa\n",
      "448        Betula_Pendula\n",
      "dtype: object\n",
      "130    1.0\n",
      "448    1.0\n",
      "dtype: float64\n",
      "\n",
      "image id\n",
      "130     301\n",
      "448    1190\n",
      "Name: id, dtype: int64\n"
     ]
    }
   ],
   "source": [
    "diff = ipt_sub_max == sub_max\n",
    "diff_idx =  diff[diff == False]\n",
    "\n",
    "print diff_idx.index\n",
    "print\n",
    "print \"ipt prediction\"\n",
    "print ipt_sub_max[diff_idx.index]\n",
    "print ipt_sub.loc[diff_idx.index].drop('id', axis=1).max(axis=1)\n",
    "print\n",
    "print \"sub prediction\"\n",
    "print sub_max[diff_idx.index]\n",
    "print sub.loc[diff_idx.index].drop('id', axis=1).max(axis=1)\n",
    "print\n",
    "print \"image id\"\n",
    "print sub.loc[diff_idx.index]['id']"
   ]
  },
  {
   "cell_type": "code",
   "execution_count": 8,
   "metadata": {
    "collapsed": false
   },
   "outputs": [
    {
     "name": "stdout",
     "output_type": "stream",
     "text": [
      "Int64Index([130, 448], dtype='int64')\n",
      "\n",
      "ipt prediction\n",
      "130    Cornus_Macrophylla\n",
      "448           Acer_Rubrum\n",
      "dtype: object\n",
      "130    0.676246\n",
      "448    0.834613\n",
      "dtype: float64\n",
      "\n",
      "sub prediction\n",
      "130    Cornus_Controversa\n",
      "448        Betula_Pendula\n",
      "dtype: object\n",
      "130    0.9\n",
      "448    1.0\n",
      "dtype: float64\n",
      "\n",
      "image id\n",
      "130     301\n",
      "448    1190\n",
      "Name: id, dtype: int64\n"
     ]
    }
   ],
   "source": [
    "ipt_sub = pd.read_csv('test_submission3.csv')\n",
    "sub = pd.read_csv('test_submission7.csv')\n",
    "\n",
    "diff = ipt_sub_max == sub_max\n",
    "diff_idx =  diff[diff == False]\n",
    "\n",
    "print diff_idx.index\n",
    "print\n",
    "print \"ipt prediction\"\n",
    "print ipt_sub_max[diff_idx.index]\n",
    "print ipt_sub.loc[diff_idx.index].drop('id', axis=1).max(axis=1)\n",
    "print\n",
    "print \"sub prediction\"\n",
    "print sub_max[diff_idx.index]\n",
    "print sub.loc[diff_idx.index].drop('id', axis=1).max(axis=1)\n",
    "print\n",
    "print \"image id\"\n",
    "print sub.loc[diff_idx.index]['id']"
   ]
  },
  {
   "cell_type": "code",
   "execution_count": null,
   "metadata": {
    "collapsed": true
   },
   "outputs": [],
   "source": []
  }
 ],
 "metadata": {
  "kernelspec": {
   "display_name": "Python 2",
   "language": "python",
   "name": "python2"
  },
  "language_info": {
   "codemirror_mode": {
    "name": "ipython",
    "version": 2
   },
   "file_extension": ".py",
   "mimetype": "text/x-python",
   "name": "python",
   "nbconvert_exporter": "python",
   "pygments_lexer": "ipython2",
   "version": "2.7.12"
  }
 },
 "nbformat": 4,
 "nbformat_minor": 0
}
